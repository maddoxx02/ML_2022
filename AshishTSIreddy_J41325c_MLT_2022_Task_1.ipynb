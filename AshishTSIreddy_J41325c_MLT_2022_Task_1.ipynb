{
 "cells": [
  {
   "cell_type": "code",
   "execution_count": 111,
   "id": "4a184a5b",
   "metadata": {},
   "outputs": [],
   "source": [
    "#Ashish Tara Shivakumar Ireddy_Task 1 \n",
    "#ISU: 331890\n",
    "\n",
    "#Importing all Libs\n",
    "import pandas as pd\n",
    "import numpy as np\n",
    "from sklearn.tree import DecisionTreeClassifier \n",
    "from sklearn.model_selection import train_test_split\n",
    "from sklearn.preprocessing import StandardScaler\n",
    "\n",
    "from sklearn.ensemble import RandomForestClassifier\n",
    "from sklearn.model_selection import  learning_curve\n",
    "from sklearn.metrics import precision_score, recall_score, accuracy_score, f1_score, log_loss\n",
    "from sklearn.metrics import roc_curve, roc_auc_score, plot_roc_curve, plot_precision_recall_curve\n",
    "from sklearn.metrics import confusion_matrix, precision_recall_curve,  precision_recall_curve, auc, make_scorer\n",
    "\n",
    "import matplotlib.pyplot as plt\n",
    "from matplotlib.colors import ListedColormap"
   ]
  },
  {
   "cell_type": "code",
   "execution_count": 112,
   "id": "16304558",
   "metadata": {},
   "outputs": [
    {
     "data": {
      "text/html": [
       "<div>\n",
       "<style scoped>\n",
       "    .dataframe tbody tr th:only-of-type {\n",
       "        vertical-align: middle;\n",
       "    }\n",
       "\n",
       "    .dataframe tbody tr th {\n",
       "        vertical-align: top;\n",
       "    }\n",
       "\n",
       "    .dataframe thead th {\n",
       "        text-align: right;\n",
       "    }\n",
       "</style>\n",
       "<table border=\"1\" class=\"dataframe\">\n",
       "  <thead>\n",
       "    <tr style=\"text-align: right;\">\n",
       "      <th></th>\n",
       "      <th>Activity</th>\n",
       "      <th>D1</th>\n",
       "      <th>D2</th>\n",
       "      <th>D3</th>\n",
       "      <th>D4</th>\n",
       "      <th>D5</th>\n",
       "      <th>D6</th>\n",
       "      <th>D7</th>\n",
       "      <th>D8</th>\n",
       "      <th>D9</th>\n",
       "      <th>...</th>\n",
       "      <th>D1767</th>\n",
       "      <th>D1768</th>\n",
       "      <th>D1769</th>\n",
       "      <th>D1770</th>\n",
       "      <th>D1771</th>\n",
       "      <th>D1772</th>\n",
       "      <th>D1773</th>\n",
       "      <th>D1774</th>\n",
       "      <th>D1775</th>\n",
       "      <th>D1776</th>\n",
       "    </tr>\n",
       "  </thead>\n",
       "  <tbody>\n",
       "    <tr>\n",
       "      <th>0</th>\n",
       "      <td>1</td>\n",
       "      <td>0.000000</td>\n",
       "      <td>0.497009</td>\n",
       "      <td>0.10</td>\n",
       "      <td>0.0</td>\n",
       "      <td>0.132956</td>\n",
       "      <td>0.678031</td>\n",
       "      <td>0.273166</td>\n",
       "      <td>0.585445</td>\n",
       "      <td>0.743663</td>\n",
       "      <td>...</td>\n",
       "      <td>0</td>\n",
       "      <td>0</td>\n",
       "      <td>0</td>\n",
       "      <td>0</td>\n",
       "      <td>0</td>\n",
       "      <td>0</td>\n",
       "      <td>0</td>\n",
       "      <td>0</td>\n",
       "      <td>0</td>\n",
       "      <td>0</td>\n",
       "    </tr>\n",
       "    <tr>\n",
       "      <th>1</th>\n",
       "      <td>1</td>\n",
       "      <td>0.366667</td>\n",
       "      <td>0.606291</td>\n",
       "      <td>0.05</td>\n",
       "      <td>0.0</td>\n",
       "      <td>0.111209</td>\n",
       "      <td>0.803455</td>\n",
       "      <td>0.106105</td>\n",
       "      <td>0.411754</td>\n",
       "      <td>0.836582</td>\n",
       "      <td>...</td>\n",
       "      <td>1</td>\n",
       "      <td>1</td>\n",
       "      <td>1</td>\n",
       "      <td>1</td>\n",
       "      <td>0</td>\n",
       "      <td>1</td>\n",
       "      <td>0</td>\n",
       "      <td>0</td>\n",
       "      <td>1</td>\n",
       "      <td>0</td>\n",
       "    </tr>\n",
       "    <tr>\n",
       "      <th>2</th>\n",
       "      <td>1</td>\n",
       "      <td>0.033300</td>\n",
       "      <td>0.480124</td>\n",
       "      <td>0.00</td>\n",
       "      <td>0.0</td>\n",
       "      <td>0.209791</td>\n",
       "      <td>0.610350</td>\n",
       "      <td>0.356453</td>\n",
       "      <td>0.517720</td>\n",
       "      <td>0.679051</td>\n",
       "      <td>...</td>\n",
       "      <td>0</td>\n",
       "      <td>0</td>\n",
       "      <td>0</td>\n",
       "      <td>0</td>\n",
       "      <td>0</td>\n",
       "      <td>0</td>\n",
       "      <td>0</td>\n",
       "      <td>0</td>\n",
       "      <td>0</td>\n",
       "      <td>0</td>\n",
       "    </tr>\n",
       "    <tr>\n",
       "      <th>3</th>\n",
       "      <td>1</td>\n",
       "      <td>0.000000</td>\n",
       "      <td>0.538825</td>\n",
       "      <td>0.00</td>\n",
       "      <td>0.5</td>\n",
       "      <td>0.196344</td>\n",
       "      <td>0.724230</td>\n",
       "      <td>0.235606</td>\n",
       "      <td>0.288764</td>\n",
       "      <td>0.805110</td>\n",
       "      <td>...</td>\n",
       "      <td>0</td>\n",
       "      <td>0</td>\n",
       "      <td>0</td>\n",
       "      <td>0</td>\n",
       "      <td>0</td>\n",
       "      <td>0</td>\n",
       "      <td>0</td>\n",
       "      <td>0</td>\n",
       "      <td>0</td>\n",
       "      <td>0</td>\n",
       "    </tr>\n",
       "    <tr>\n",
       "      <th>4</th>\n",
       "      <td>0</td>\n",
       "      <td>0.100000</td>\n",
       "      <td>0.517794</td>\n",
       "      <td>0.00</td>\n",
       "      <td>0.0</td>\n",
       "      <td>0.494734</td>\n",
       "      <td>0.781422</td>\n",
       "      <td>0.154361</td>\n",
       "      <td>0.303809</td>\n",
       "      <td>0.812646</td>\n",
       "      <td>...</td>\n",
       "      <td>0</td>\n",
       "      <td>0</td>\n",
       "      <td>0</td>\n",
       "      <td>0</td>\n",
       "      <td>0</td>\n",
       "      <td>0</td>\n",
       "      <td>0</td>\n",
       "      <td>0</td>\n",
       "      <td>0</td>\n",
       "      <td>0</td>\n",
       "    </tr>\n",
       "    <tr>\n",
       "      <th>...</th>\n",
       "      <td>...</td>\n",
       "      <td>...</td>\n",
       "      <td>...</td>\n",
       "      <td>...</td>\n",
       "      <td>...</td>\n",
       "      <td>...</td>\n",
       "      <td>...</td>\n",
       "      <td>...</td>\n",
       "      <td>...</td>\n",
       "      <td>...</td>\n",
       "      <td>...</td>\n",
       "      <td>...</td>\n",
       "      <td>...</td>\n",
       "      <td>...</td>\n",
       "      <td>...</td>\n",
       "      <td>...</td>\n",
       "      <td>...</td>\n",
       "      <td>...</td>\n",
       "      <td>...</td>\n",
       "      <td>...</td>\n",
       "      <td>...</td>\n",
       "    </tr>\n",
       "    <tr>\n",
       "      <th>3746</th>\n",
       "      <td>1</td>\n",
       "      <td>0.033300</td>\n",
       "      <td>0.506409</td>\n",
       "      <td>0.10</td>\n",
       "      <td>0.0</td>\n",
       "      <td>0.209887</td>\n",
       "      <td>0.633426</td>\n",
       "      <td>0.297659</td>\n",
       "      <td>0.376124</td>\n",
       "      <td>0.727093</td>\n",
       "      <td>...</td>\n",
       "      <td>0</td>\n",
       "      <td>0</td>\n",
       "      <td>0</td>\n",
       "      <td>0</td>\n",
       "      <td>0</td>\n",
       "      <td>0</td>\n",
       "      <td>0</td>\n",
       "      <td>0</td>\n",
       "      <td>0</td>\n",
       "      <td>0</td>\n",
       "    </tr>\n",
       "    <tr>\n",
       "      <th>3747</th>\n",
       "      <td>1</td>\n",
       "      <td>0.133333</td>\n",
       "      <td>0.651023</td>\n",
       "      <td>0.15</td>\n",
       "      <td>0.0</td>\n",
       "      <td>0.151154</td>\n",
       "      <td>0.766505</td>\n",
       "      <td>0.170876</td>\n",
       "      <td>0.404546</td>\n",
       "      <td>0.787935</td>\n",
       "      <td>...</td>\n",
       "      <td>0</td>\n",
       "      <td>0</td>\n",
       "      <td>1</td>\n",
       "      <td>0</td>\n",
       "      <td>1</td>\n",
       "      <td>0</td>\n",
       "      <td>1</td>\n",
       "      <td>0</td>\n",
       "      <td>0</td>\n",
       "      <td>0</td>\n",
       "    </tr>\n",
       "    <tr>\n",
       "      <th>3748</th>\n",
       "      <td>0</td>\n",
       "      <td>0.200000</td>\n",
       "      <td>0.520564</td>\n",
       "      <td>0.00</td>\n",
       "      <td>0.0</td>\n",
       "      <td>0.179949</td>\n",
       "      <td>0.768785</td>\n",
       "      <td>0.177341</td>\n",
       "      <td>0.471179</td>\n",
       "      <td>0.872241</td>\n",
       "      <td>...</td>\n",
       "      <td>0</td>\n",
       "      <td>0</td>\n",
       "      <td>0</td>\n",
       "      <td>0</td>\n",
       "      <td>0</td>\n",
       "      <td>0</td>\n",
       "      <td>0</td>\n",
       "      <td>0</td>\n",
       "      <td>0</td>\n",
       "      <td>0</td>\n",
       "    </tr>\n",
       "    <tr>\n",
       "      <th>3749</th>\n",
       "      <td>1</td>\n",
       "      <td>0.100000</td>\n",
       "      <td>0.765646</td>\n",
       "      <td>0.00</td>\n",
       "      <td>0.0</td>\n",
       "      <td>0.536954</td>\n",
       "      <td>0.634936</td>\n",
       "      <td>0.342713</td>\n",
       "      <td>0.447162</td>\n",
       "      <td>0.672689</td>\n",
       "      <td>...</td>\n",
       "      <td>0</td>\n",
       "      <td>0</td>\n",
       "      <td>0</td>\n",
       "      <td>0</td>\n",
       "      <td>0</td>\n",
       "      <td>0</td>\n",
       "      <td>0</td>\n",
       "      <td>0</td>\n",
       "      <td>0</td>\n",
       "      <td>0</td>\n",
       "    </tr>\n",
       "    <tr>\n",
       "      <th>3750</th>\n",
       "      <td>0</td>\n",
       "      <td>0.133333</td>\n",
       "      <td>0.533952</td>\n",
       "      <td>0.00</td>\n",
       "      <td>0.0</td>\n",
       "      <td>0.347966</td>\n",
       "      <td>0.757971</td>\n",
       "      <td>0.230667</td>\n",
       "      <td>0.272652</td>\n",
       "      <td>0.854116</td>\n",
       "      <td>...</td>\n",
       "      <td>0</td>\n",
       "      <td>0</td>\n",
       "      <td>0</td>\n",
       "      <td>0</td>\n",
       "      <td>0</td>\n",
       "      <td>0</td>\n",
       "      <td>0</td>\n",
       "      <td>0</td>\n",
       "      <td>0</td>\n",
       "      <td>0</td>\n",
       "    </tr>\n",
       "  </tbody>\n",
       "</table>\n",
       "<p>3751 rows × 1777 columns</p>\n",
       "</div>"
      ],
      "text/plain": [
       "      Activity        D1        D2    D3   D4        D5        D6        D7  \\\n",
       "0            1  0.000000  0.497009  0.10  0.0  0.132956  0.678031  0.273166   \n",
       "1            1  0.366667  0.606291  0.05  0.0  0.111209  0.803455  0.106105   \n",
       "2            1  0.033300  0.480124  0.00  0.0  0.209791  0.610350  0.356453   \n",
       "3            1  0.000000  0.538825  0.00  0.5  0.196344  0.724230  0.235606   \n",
       "4            0  0.100000  0.517794  0.00  0.0  0.494734  0.781422  0.154361   \n",
       "...        ...       ...       ...   ...  ...       ...       ...       ...   \n",
       "3746         1  0.033300  0.506409  0.10  0.0  0.209887  0.633426  0.297659   \n",
       "3747         1  0.133333  0.651023  0.15  0.0  0.151154  0.766505  0.170876   \n",
       "3748         0  0.200000  0.520564  0.00  0.0  0.179949  0.768785  0.177341   \n",
       "3749         1  0.100000  0.765646  0.00  0.0  0.536954  0.634936  0.342713   \n",
       "3750         0  0.133333  0.533952  0.00  0.0  0.347966  0.757971  0.230667   \n",
       "\n",
       "            D8        D9  ...  D1767  D1768  D1769  D1770  D1771  D1772  \\\n",
       "0     0.585445  0.743663  ...      0      0      0      0      0      0   \n",
       "1     0.411754  0.836582  ...      1      1      1      1      0      1   \n",
       "2     0.517720  0.679051  ...      0      0      0      0      0      0   \n",
       "3     0.288764  0.805110  ...      0      0      0      0      0      0   \n",
       "4     0.303809  0.812646  ...      0      0      0      0      0      0   \n",
       "...        ...       ...  ...    ...    ...    ...    ...    ...    ...   \n",
       "3746  0.376124  0.727093  ...      0      0      0      0      0      0   \n",
       "3747  0.404546  0.787935  ...      0      0      1      0      1      0   \n",
       "3748  0.471179  0.872241  ...      0      0      0      0      0      0   \n",
       "3749  0.447162  0.672689  ...      0      0      0      0      0      0   \n",
       "3750  0.272652  0.854116  ...      0      0      0      0      0      0   \n",
       "\n",
       "      D1773  D1774  D1775  D1776  \n",
       "0         0      0      0      0  \n",
       "1         0      0      1      0  \n",
       "2         0      0      0      0  \n",
       "3         0      0      0      0  \n",
       "4         0      0      0      0  \n",
       "...     ...    ...    ...    ...  \n",
       "3746      0      0      0      0  \n",
       "3747      1      0      0      0  \n",
       "3748      0      0      0      0  \n",
       "3749      0      0      0      0  \n",
       "3750      0      0      0      0  \n",
       "\n",
       "[3751 rows x 1777 columns]"
      ]
     },
     "execution_count": 112,
     "metadata": {},
     "output_type": "execute_result"
    }
   ],
   "source": [
    "df = pd.read_csv('bioresponse.csv')\n",
    "df\n",
    "#importing Data"
   ]
  },
  {
   "cell_type": "code",
   "execution_count": 113,
   "id": "3f443792",
   "metadata": {},
   "outputs": [
    {
     "data": {
      "text/html": [
       "<div>\n",
       "<style scoped>\n",
       "    .dataframe tbody tr th:only-of-type {\n",
       "        vertical-align: middle;\n",
       "    }\n",
       "\n",
       "    .dataframe tbody tr th {\n",
       "        vertical-align: top;\n",
       "    }\n",
       "\n",
       "    .dataframe thead th {\n",
       "        text-align: right;\n",
       "    }\n",
       "</style>\n",
       "<table border=\"1\" class=\"dataframe\">\n",
       "  <thead>\n",
       "    <tr style=\"text-align: right;\">\n",
       "      <th></th>\n",
       "      <th>Activity</th>\n",
       "    </tr>\n",
       "  </thead>\n",
       "  <tbody>\n",
       "    <tr>\n",
       "      <th>0</th>\n",
       "      <td>1</td>\n",
       "    </tr>\n",
       "    <tr>\n",
       "      <th>1</th>\n",
       "      <td>1</td>\n",
       "    </tr>\n",
       "    <tr>\n",
       "      <th>2</th>\n",
       "      <td>1</td>\n",
       "    </tr>\n",
       "    <tr>\n",
       "      <th>3</th>\n",
       "      <td>1</td>\n",
       "    </tr>\n",
       "    <tr>\n",
       "      <th>4</th>\n",
       "      <td>0</td>\n",
       "    </tr>\n",
       "    <tr>\n",
       "      <th>...</th>\n",
       "      <td>...</td>\n",
       "    </tr>\n",
       "    <tr>\n",
       "      <th>3746</th>\n",
       "      <td>1</td>\n",
       "    </tr>\n",
       "    <tr>\n",
       "      <th>3747</th>\n",
       "      <td>1</td>\n",
       "    </tr>\n",
       "    <tr>\n",
       "      <th>3748</th>\n",
       "      <td>0</td>\n",
       "    </tr>\n",
       "    <tr>\n",
       "      <th>3749</th>\n",
       "      <td>1</td>\n",
       "    </tr>\n",
       "    <tr>\n",
       "      <th>3750</th>\n",
       "      <td>0</td>\n",
       "    </tr>\n",
       "  </tbody>\n",
       "</table>\n",
       "<p>3751 rows × 1 columns</p>\n",
       "</div>"
      ],
      "text/plain": [
       "      Activity\n",
       "0            1\n",
       "1            1\n",
       "2            1\n",
       "3            1\n",
       "4            0\n",
       "...        ...\n",
       "3746         1\n",
       "3747         1\n",
       "3748         0\n",
       "3749         1\n",
       "3750         0\n",
       "\n",
       "[3751 rows x 1 columns]"
      ]
     },
     "execution_count": 113,
     "metadata": {},
     "output_type": "execute_result"
    }
   ],
   "source": [
    "#Creating a Copy\n",
    "df_copy = df.iloc[:, 1:]\n",
    "Act_Data = df[['Activity']]\n",
    "Act_Data"
   ]
  },
  {
   "cell_type": "code",
   "execution_count": 114,
   "id": "8e6e5082",
   "metadata": {},
   "outputs": [
    {
     "data": {
      "text/plain": [
       "array([[-0.96211163, -0.90156647,  0.40633482, ..., -0.10894694,\n",
       "        -0.14380637, -0.10641338],\n",
       "       [ 3.62247289,  0.13089854, -0.23138983, ..., -0.10894694,\n",
       "         6.95379487, -0.10641338],\n",
       "       [-0.545748  , -1.06108805, -0.86911448, ..., -0.10894694,\n",
       "        -0.14380637, -0.10641338],\n",
       "       ...,\n",
       "       [ 1.53857083, -0.67902883, -0.86911448, ..., -0.10894694,\n",
       "        -0.14380637, -0.10641338],\n",
       "       [ 0.2882296 ,  1.63642996, -0.86911448, ..., -0.10894694,\n",
       "        -0.14380637, -0.10641338],\n",
       "       [ 0.70501001, -0.55254143, -0.86911448, ..., -0.10894694,\n",
       "        -0.14380637, -0.10641338]])"
      ]
     },
     "execution_count": 114,
     "metadata": {},
     "output_type": "execute_result"
    }
   ],
   "source": [
    "#Scaling Data and Making a copy for operation and verification\n",
    "scaler = StandardScaler()\n",
    "Scale_Data=scaler.fit_transform(df_copy)\n",
    "\n",
    "Scale_Data"
   ]
  },
  {
   "cell_type": "code",
   "execution_count": 115,
   "id": "ccee2a31",
   "metadata": {
    "scrolled": true
   },
   "outputs": [],
   "source": [
    "#Splitting Dataset 70-30 ratio \n",
    "\n",
    "x_train, x_test, y_train, y_test= train_test_split(Scale_Data, Act_Data, test_size=0.3, random_state=0)\n",
    "\n"
   ]
  },
  {
   "cell_type": "code",
   "execution_count": 118,
   "id": "72811079",
   "metadata": {
    "scrolled": true
   },
   "outputs": [
    {
     "name": "stdout",
     "output_type": "stream",
     "text": [
      "Small Decision Tree :\n",
      "\n",
      "    Precision:  0.7457142857142857\n",
      "       Recall:  0.8298887122416534\n",
      "     Accuracy:  0.7468916518650088\n",
      "           F1:  0.7855530474040631\n",
      "     Log Loss:  8.742179041644865\n",
      "\n",
      "ROC Parameter:  0.7358699094407463\n"
     ]
    },
    {
     "data": {
      "text/plain": [
       "Text(0, 0.5, 'value')"
      ]
     },
     "execution_count": 118,
     "metadata": {},
     "output_type": "execute_result"
    },
    {
     "data": {
      "image/png": "[encoded data removed]",
      "text/plain": [
       "<Figure size 432x288 with 1 Axes>"
      ]
     },
     "metadata": {
      "needs_background": "light"
     },
     "output_type": "display_data"
    }
   ],
   "source": [
    "# Small Decision Tree and its metrics \n",
    "\n",
    "sdt = DecisionTreeClassifier(max_depth=2, random_state=0)\n",
    "sdt.fit(x_train, y_train.values.ravel())\n",
    "\n",
    "sdt_est = sdt.predict(x_test)\n",
    "\n",
    "\n",
    "\n",
    "print(\"Small Decision Tree :\")\n",
    "print(\"\\n    Precision: \", precision_score(y_test, sdt_est))\n",
    "print(\"       Recall: \", recall_score(y_test, sdt_est))\n",
    "print(\"     Accuracy: \", accuracy_score(y_test, sdt_est))\n",
    "print(\"           F1: \", f1_score(y_test, sdt_est))\n",
    "print(\"     Log Loss: \", log_loss(y_test, sdt_est))\n",
    "\n",
    "sdt_roc = roc_auc_score(y_test, sdt_est)\n",
    "print(\"\\nROC Parameter: \", sdt_roc)\n",
    "\n",
    "#---------------------------PLOTTING---------------------------------\n",
    "\n",
    "sdt_predict = sdt.predict_proba(x_test)\n",
    "\n",
    "pres, rcl, thresh = precision_recall_curve(y_test, sdt_predict[:,1])\n",
    "plt.plot(thresh, pres[:-1], label = \"Precision\")\n",
    "plt.plot(thresh, rcl[:-1], label = \"Recall\")\n",
    "plt.title(\"Small Decision Tree - Precision Recall Plot \")\n",
    "plt.legend()\n",
    "plt.xlabel(\"Threshold\")\n",
    "plt.ylabel(\"value\")"
   ]
  },
  {
   "cell_type": "code",
   "execution_count": 119,
   "id": "b67e3533",
   "metadata": {},
   "outputs": [
    {
     "name": "stdout",
     "output_type": "stream",
     "text": [
      "Deep Decision Tree :\n",
      "\n",
      "    Precision:  0.7618296529968455\n",
      "       Recall:  0.7678855325914149\n",
      "     Accuracy:  0.7362344582593251\n",
      "           F1:  0.7648456057007126\n",
      "     Log Loss:  9.110246295293457\n",
      "\n",
      "ROC Parameter:  0.7320312974828302\n"
     ]
    },
    {
     "data": {
      "text/plain": [
       "Text(0, 0.5, 'value')"
      ]
     },
     "execution_count": 119,
     "metadata": {},
     "output_type": "execute_result"
    },
    {
     "data": {
      "image/png": "[encoded data removed]",
      "text/plain": [
       "<Figure size 432x288 with 1 Axes>"
      ]
     },
     "metadata": {
      "needs_background": "light"
     },
     "output_type": "display_data"
    }
   ],
   "source": [
    "# Deep Decision Tree & its metrics \n",
    "\n",
    "ddt = DecisionTreeClassifier(max_depth=20, random_state=0)\n",
    "ddt.fit(x_train, y_train.values.ravel())\n",
    "\n",
    "ddt_est = ddt.predict(x_test)\n",
    "\n",
    "\n",
    "\n",
    "print(\"Deep Decision Tree :\")\n",
    "print(\"\\n    Precision: \", precision_score(y_test, ddt_est))\n",
    "print(\"       Recall: \", recall_score(y_test, ddt_est))\n",
    "print(\"     Accuracy: \", accuracy_score(y_test, ddt_est))\n",
    "print(\"           F1: \", f1_score(y_test, ddt_est))\n",
    "print(\"     Log Loss: \", log_loss(y_test, ddt_est))\n",
    "\n",
    "ddt_roc = roc_auc_score(y_test, ddt_est)\n",
    "print(\"\\nROC Parameter: \", ddt_roc)\n",
    "\n",
    "#---------------------------PLOTTING---------------------------------\n",
    "\n",
    "ddt_predict = ddt.predict_proba(x_test)\n",
    "\n",
    "pres1, rcl1, thresh1 = precision_recall_curve(y_test, ddt_predict[:,1])\n",
    "plt.plot(thresh1, pres1[:-1], label = \"Precision\")\n",
    "plt.plot(thresh1, rcl1[:-1], label = \"Recall\")\n",
    "plt.title(\"Deep Decision Tree - Precision Recall Plot \")\n",
    "plt.legend()\n",
    "plt.xlabel(\"Threshold\")\n",
    "plt.ylabel(\"value\")"
   ]
  },
  {
   "cell_type": "code",
   "execution_count": 141,
   "id": "68dbeab1",
   "metadata": {},
   "outputs": [
    {
     "name": "stdout",
     "output_type": "stream",
     "text": [
      "Random Forest on Small Trees Result :\n",
      "\n",
      "    Precision:  0.7170953101361573\n",
      "       Recall:  0.753577106518283\n",
      "     Accuracy:  0.6962699822380106\n",
      "           F1:  0.7348837209302327\n",
      "     Log Loss:  10.490595960727264\n",
      "\n",
      "ROC Parameter:  0.6886597806233266\n"
     ]
    },
    {
     "data": {
      "text/plain": [
       "Text(0, 0.5, 'value')"
      ]
     },
     "execution_count": 141,
     "metadata": {},
     "output_type": "execute_result"
    },
    {
     "data": {
      "image/png": "[encoded data removed]",
      "text/plain": [
       "<Figure size 432x288 with 1 Axes>"
      ]
     },
     "metadata": {
      "needs_background": "light"
     },
     "output_type": "display_data"
    }
   ],
   "source": [
    "# Random Forest On Small Trees\n",
    "\n",
    "rfst = RandomForestClassifier(n_estimators = 60, max_depth=2, random_state=0)\n",
    "rfst.fit(x_train, y_train.values.ravel())\n",
    "\n",
    "rfst_est = rfst.predict(x_test)\n",
    "\n",
    "\n",
    "\n",
    "print(\"Random Forest on Small Trees Result :\")\n",
    "print(\"\\n    Precision: \", precision_score(y_test, rfst_est))\n",
    "print(\"       Recall: \", recall_score(y_test, rfst_est))\n",
    "print(\"     Accuracy: \", accuracy_score(y_test, rfst_est))\n",
    "print(\"           F1: \", f1_score(y_test, rfst_est))\n",
    "print(\"     Log Loss: \", log_loss(y_test, rfst_est))\n",
    "\n",
    "rfst_roc = roc_auc_score(y_test, rfst_est)\n",
    "print(\"\\nROC Parameter: \", rfst_roc)\n",
    "\n",
    "#---------------------------PLOTTING---------------------------------\n",
    "\n",
    "rfst_predict = rfst.predict_proba(x_test)\n",
    "\n",
    "pres2, rcl2, thresh2 = precision_recall_curve(y_test, rfst_predict[:,1])\n",
    "plt.plot(thresh2, pres2[:-1], label = \"Precision\")\n",
    "plt.plot(thresh2, rcl2[:-1], label = \"Recall\")\n",
    "plt.title(\"Random Forest On Small Trees - Precision Recall Plot \")\n",
    "plt.legend()\n",
    "plt.xlabel(\"Threshold\")\n",
    "plt.ylabel(\"value\")"
   ]
  },
  {
   "cell_type": "code",
   "execution_count": 138,
   "id": "c11c83c8",
   "metadata": {},
   "outputs": [
    {
     "name": "stdout",
     "output_type": "stream",
     "text": [
      "Random Forest on Small Trees Result :\n",
      "\n",
      "    Precision:  0.8119935170178282\n",
      "       Recall:  0.7965023847376789\n",
      "     Accuracy:  0.783303730017762\n",
      "           F1:  0.8041733547351524\n",
      "     Log Loss:  7.484506388685712\n",
      "\n",
      "ROC Parameter:  0.781550991161596\n"
     ]
    },
    {
     "data": {
      "text/plain": [
       "Text(0, 0.5, 'value')"
      ]
     },
     "execution_count": 138,
     "metadata": {},
     "output_type": "execute_result"
    },
    {
     "data": {
      "image/png": "[encoded data removed]",
      "text/plain": [
       "<Figure size 432x288 with 1 Axes>"
      ]
     },
     "metadata": {
      "needs_background": "light"
     },
     "output_type": "display_data"
    }
   ],
   "source": [
    "# Random Forest On Deep Trees\n",
    "\n",
    "rfdt = RandomForestClassifier(n_estimators = 60, max_depth=20, random_state=0)\n",
    "rfdt.fit(x_train, y_train.values.ravel())\n",
    "\n",
    "rfdt_est = rfdt.predict(x_test)\n",
    "\n",
    "\n",
    "print(\"Random Forest on Small Trees Result :\")\n",
    "print(\"\\n    Precision: \", precision_score(y_test, rfdt_est))\n",
    "print(\"       Recall: \", recall_score(y_test, rfdt_est))\n",
    "print(\"     Accuracy: \", accuracy_score(y_test, rfdt_est))\n",
    "print(\"           F1: \", f1_score(y_test, rfdt_est))\n",
    "print(\"     Log Loss: \", log_loss(y_test, rfdt_est))\n",
    "\n",
    "rfdt_roc = roc_auc_score(y_test, rfdt_est)\n",
    "print(\"\\nROC Parameter: \", rfdt_roc)\n",
    "\n",
    "#---------------------------PLOTTING---------------------------------\n",
    "\n",
    "rfdt_predict = rfdt.predict_proba(x_test)\n",
    "\n",
    "pres3, rcl3, thresh3 = precision_recall_curve(y_test, rfdt_predict[:,1])\n",
    "plt.plot(thresh3, pres3[:-1], label = \"Precision\")\n",
    "plt.plot(thresh3, rcl3[:-1], label = \"Recall\")\n",
    "plt.title(\"Random Forest On Deep Trees - Precision Recall Plot \")\n",
    "plt.legend()\n",
    "plt.xlabel(\"Threshold\")\n",
    "plt.ylabel(\"value\")"
   ]
  },
  {
   "cell_type": "code",
   "execution_count": 148,
   "id": "ad8a467f",
   "metadata": {},
   "outputs": [
    {
     "name": "stdout",
     "output_type": "stream",
     "text": [
      "       Small Decision Tree:  0.7358699094407463\n",
      "        Deep Decision Tree:  0.7320312974828302\n",
      "Random Forest + Small Tree:  0.6886597806233266\n",
      " Random Forest + Deep Tree:  0.781550991161596\n"
     ]
    },
    {
     "data": {
      "image/png": "[encoded data removed]",
      "text/plain": [
       "<Figure size 432x288 with 1 Axes>"
      ]
     },
     "metadata": {
      "needs_background": "light"
     },
     "output_type": "display_data"
    }
   ],
   "source": [
    "#COMBINED ROC Curve for all the ROC values respective to trees \n",
    "\n",
    "fls, tru, thrs = roc_curve(y_test, sdt_predict[:,1])\n",
    "fls1, tru1, thrs1 = roc_curve(y_test, ddt_predict[:,1])\n",
    "fls2, tru2, thrs2 = roc_curve(y_test, rfst_predict[:,1])\n",
    "fls3, tru3, thrs3 = roc_curve(y_test, rfdt_predict[:,1])\n",
    "\n",
    "plt.plot(fls, tru, label = \"Small Decision Tree\") \n",
    "plt.plot(fls1, tru1, label = \"Deep Decision Tree\")  \n",
    "plt.plot(fls2, tru2, label = \"Random Forest + Small Tree\") \n",
    "plt.plot(fls3, tru3, label = \"Random Forest + Deep Tree\") \n",
    "\n",
    "plt.grid()\n",
    "plt.xlabel(\"False Positive \")\n",
    "plt.ylabel(\"True Positive \")\n",
    "plt.title(\"ROC curve\")\n",
    "plt.legend()\n",
    "\n",
    "print(\"       Small Decision Tree: \", sdt_roc)\n",
    "print(\"        Deep Decision Tree: \", ddt_roc)\n",
    "print(\"Random Forest + Small Tree: \", rfst_roc)\n",
    "print(\" Random Forest + Deep Tree: \", rfdt_roc)"
   ]
  },
  {
   "cell_type": "code",
   "execution_count": 171,
   "id": "43fe1719",
   "metadata": {},
   "outputs": [],
   "source": [
    "#Creation of a Classifier that avoids False Negative (Type 2) Error & Metrics \n",
    "\n",
    "rdm = RandomForestClassifier(random_state=0)\n",
    "rdm.fit(x_train, y_train.values.ravel())\n",
    "\n",
    "rdm_predict = rdm.predict_proba(x_test)[:, 1]\n",
    "\n",
    "rdm_pres, rdm_rcl, rdm_thrs = precision_recall_curve(y_test, rdm_predict)\n",
    "\n",
    "def changer(rdm_predict, val):\n",
    "    return [1 if y >= val else 0 for y in rdm_predict]\n",
    "\n",
    "val=0.05\n",
    "\n",
    "rdm_var = adjusted_classes(rdm_predict, val)"
   ]
  },
  {
   "cell_type": "code",
   "execution_count": 177,
   "id": "eab9cdac",
   "metadata": {},
   "outputs": [
    {
     "name": "stdout",
     "output_type": "stream",
     "text": [
      "Metrics: \n",
      "\n",
      "  Precision:  0.5661566156615662\n",
      "     Recall:  1.0\n",
      "   Accuracy:  0.5719360568383659\n",
      "         F1:  0.7229885057471265\n",
      "   Log Loss:  14.785147094412347\n",
      "\n",
      " ROC Parameter:  0.5150905432595574\n"
     ]
    }
   ],
   "source": [
    "#Printing Metrics \n",
    "print(\"Metrics: \")\n",
    "print(\"\\n  Precision: \", precision_score(y_test, rdm_var))\n",
    "print(\"     Recall: \", recall_score(y_test, rdm_var))\n",
    "print(\"   Accuracy: \" , accuracy_score(y_test, rdm_var))\n",
    "print(\"         F1: \", f1_score(y_test, rdm_var))\n",
    "print(\"   Log Loss: \", log_loss(y_test, rdm_var))\n",
    "\n",
    "roc=roc_auc_score(y_test, rdm_var)\n",
    "\n",
    "print(\"\\n ROC Parameter: \", roc )"
   ]
  },
  {
   "cell_type": "code",
   "execution_count": 208,
   "id": "185f12b6",
   "metadata": {},
   "outputs": [
    {
     "data": {
      "text/plain": [
       "[<matplotlib.lines.Line2D at 0x113915e3d30>]"
      ]
     },
     "execution_count": 208,
     "metadata": {},
     "output_type": "execute_result"
    },
    {
     "data": {
      "image/png": "[encoded data removed]",
      "text/plain": [
       "<Figure size 432x288 with 1 Axes>"
      ]
     },
     "metadata": {
      "needs_background": "light"
     },
     "output_type": "display_data"
    }
   ],
   "source": [
    "    #plotting the graph for the same\n",
    "    plt.title(\"Precision & Recall Plot\")\n",
    "    plt.step(rdm_rcl, rdm_pres, color='r', alpha=1)\n",
    "    plt.fill_between(rdm_rcl, rdm_pres, step='post')\n",
    "    plt.xlabel(\"Threshold\")    \n",
    "    \n",
    "    close_default_rdm = np.argmin(np.abs(rdm_thrs - val))\n",
    "    plt.plot(rdm_rcl[close_default_rdm], rdm_pres[close_default_rdm], '.', color = 'black', markersize = 10) "
   ]
  }
 ],
 "metadata": {
  "kernelspec": {
   "display_name": "Python 3 (ipykernel)",
   "language": "python",
   "name": "python3"
  },
  "language_info": {
   "codemirror_mode": {
    "name": "ipython",
    "version": 3
   },
   "file_extension": ".py",
   "mimetype": "text/x-python",
   "name": "python",
   "nbconvert_exporter": "python",
   "pygments_lexer": "ipython3",
   "version": "3.9.7"
  }
 },
 "nbformat": 4,
 "nbformat_minor": 5
}
